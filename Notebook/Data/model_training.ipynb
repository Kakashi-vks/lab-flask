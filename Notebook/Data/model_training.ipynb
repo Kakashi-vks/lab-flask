{
 "cells": [
  {
   "cell_type": "code",
   "execution_count": 41,
   "metadata": {},
   "outputs": [],
   "source": [
    "import pandas as pd \n",
    "import os\n",
    "from collections import Counter\n",
    "from sklearn.model_selection import train_test_split\n",
    "from sklearn.preprocessing import StandardScaler\n",
    "from sklearn.metrics import classification_report, roc_curve, precision_recall_curve, roc_auc_score\n",
    "from sklearn.linear_model import LogisticRegression\n",
    "from sklearn.ensemble import GradientBoostingClassifier, RandomForestClassifier\n",
    "import xgboost as xgb\n",
    "from sklearn.feature_selection import SelectKBest, f_classif\n",
    "import matplotlib.pyplot as plt\n",
    "import pickle\n"
   ]
  },
  {
   "cell_type": "code",
   "execution_count": 3,
   "metadata": {},
   "outputs": [
    {
     "data": {
      "text/html": [
       "<div>\n",
       "<style scoped>\n",
       "    .dataframe tbody tr th:only-of-type {\n",
       "        vertical-align: middle;\n",
       "    }\n",
       "\n",
       "    .dataframe tbody tr th {\n",
       "        vertical-align: top;\n",
       "    }\n",
       "\n",
       "    .dataframe thead th {\n",
       "        text-align: right;\n",
       "    }\n",
       "</style>\n",
       "<table border=\"1\" class=\"dataframe\">\n",
       "  <thead>\n",
       "    <tr style=\"text-align: right;\">\n",
       "      <th></th>\n",
       "      <th>Client_Income</th>\n",
       "      <th>Car_Owned</th>\n",
       "      <th>Bike_Owned</th>\n",
       "      <th>Active_Loan</th>\n",
       "      <th>House_Own</th>\n",
       "      <th>Credit_Amount</th>\n",
       "      <th>Loan_Annuity</th>\n",
       "      <th>Client_Education</th>\n",
       "      <th>Client_Gender</th>\n",
       "      <th>Loan_Contract_Type</th>\n",
       "      <th>...</th>\n",
       "      <th>ID_Days</th>\n",
       "      <th>Client_Family_Members</th>\n",
       "      <th>Cleint_City_Rating</th>\n",
       "      <th>Score_Source_2</th>\n",
       "      <th>Score_Source_3</th>\n",
       "      <th>Phone_Change</th>\n",
       "      <th>Default</th>\n",
       "      <th>balance_ratio</th>\n",
       "      <th>avg_source_score</th>\n",
       "      <th>capablity</th>\n",
       "    </tr>\n",
       "  </thead>\n",
       "  <tbody>\n",
       "    <tr>\n",
       "      <th>0</th>\n",
       "      <td>6750.0</td>\n",
       "      <td>0.0</td>\n",
       "      <td>0.0</td>\n",
       "      <td>1.0</td>\n",
       "      <td>0.0</td>\n",
       "      <td>61190.55</td>\n",
       "      <td>3416.85</td>\n",
       "      <td>4</td>\n",
       "      <td>1</td>\n",
       "      <td>0</td>\n",
       "      <td>...</td>\n",
       "      <td>383.0</td>\n",
       "      <td>2.0</td>\n",
       "      <td>2.0</td>\n",
       "      <td>0.478787</td>\n",
       "      <td>0.478787</td>\n",
       "      <td>63.0</td>\n",
       "      <td>0</td>\n",
       "      <td>9.065267</td>\n",
       "      <td>0.478787</td>\n",
       "      <td>0.506200</td>\n",
       "    </tr>\n",
       "    <tr>\n",
       "      <th>1</th>\n",
       "      <td>18000.0</td>\n",
       "      <td>0.0</td>\n",
       "      <td>0.0</td>\n",
       "      <td>1.0</td>\n",
       "      <td>0.0</td>\n",
       "      <td>59527.35</td>\n",
       "      <td>2788.20</td>\n",
       "      <td>1</td>\n",
       "      <td>1</td>\n",
       "      <td>0</td>\n",
       "      <td>...</td>\n",
       "      <td>331.0</td>\n",
       "      <td>2.0</td>\n",
       "      <td>2.0</td>\n",
       "      <td>0.552795</td>\n",
       "      <td>0.329655</td>\n",
       "      <td>277.0</td>\n",
       "      <td>0</td>\n",
       "      <td>3.307075</td>\n",
       "      <td>0.441225</td>\n",
       "      <td>0.154900</td>\n",
       "    </tr>\n",
       "    <tr>\n",
       "      <th>2</th>\n",
       "      <td>15750.0</td>\n",
       "      <td>0.0</td>\n",
       "      <td>0.0</td>\n",
       "      <td>1.0</td>\n",
       "      <td>1.0</td>\n",
       "      <td>53870.40</td>\n",
       "      <td>2295.45</td>\n",
       "      <td>4</td>\n",
       "      <td>1</td>\n",
       "      <td>0</td>\n",
       "      <td>...</td>\n",
       "      <td>775.0</td>\n",
       "      <td>2.0</td>\n",
       "      <td>3.0</td>\n",
       "      <td>0.135182</td>\n",
       "      <td>0.631355</td>\n",
       "      <td>1700.0</td>\n",
       "      <td>0</td>\n",
       "      <td>3.420343</td>\n",
       "      <td>0.383268</td>\n",
       "      <td>0.145743</td>\n",
       "    </tr>\n",
       "    <tr>\n",
       "      <th>3</th>\n",
       "      <td>33750.0</td>\n",
       "      <td>1.0</td>\n",
       "      <td>0.0</td>\n",
       "      <td>1.0</td>\n",
       "      <td>0.0</td>\n",
       "      <td>133988.40</td>\n",
       "      <td>3547.35</td>\n",
       "      <td>4</td>\n",
       "      <td>0</td>\n",
       "      <td>0</td>\n",
       "      <td>...</td>\n",
       "      <td>4043.0</td>\n",
       "      <td>4.0</td>\n",
       "      <td>1.0</td>\n",
       "      <td>0.301182</td>\n",
       "      <td>0.355639</td>\n",
       "      <td>674.0</td>\n",
       "      <td>0</td>\n",
       "      <td>3.970027</td>\n",
       "      <td>0.328410</td>\n",
       "      <td>0.105107</td>\n",
       "    </tr>\n",
       "    <tr>\n",
       "      <th>4</th>\n",
       "      <td>11250.0</td>\n",
       "      <td>0.0</td>\n",
       "      <td>1.0</td>\n",
       "      <td>1.0</td>\n",
       "      <td>1.0</td>\n",
       "      <td>13752.00</td>\n",
       "      <td>653.85</td>\n",
       "      <td>4</td>\n",
       "      <td>0</td>\n",
       "      <td>0</td>\n",
       "      <td>...</td>\n",
       "      <td>3910.0</td>\n",
       "      <td>2.0</td>\n",
       "      <td>2.0</td>\n",
       "      <td>0.697928</td>\n",
       "      <td>0.420611</td>\n",
       "      <td>739.0</td>\n",
       "      <td>0</td>\n",
       "      <td>1.222400</td>\n",
       "      <td>0.559269</td>\n",
       "      <td>0.058120</td>\n",
       "    </tr>\n",
       "  </tbody>\n",
       "</table>\n",
       "<p>5 rows × 25 columns</p>\n",
       "</div>"
      ],
      "text/plain": [
       "   Client_Income  Car_Owned  Bike_Owned  Active_Loan  House_Own  \\\n",
       "0         6750.0        0.0         0.0          1.0        0.0   \n",
       "1        18000.0        0.0         0.0          1.0        0.0   \n",
       "2        15750.0        0.0         0.0          1.0        1.0   \n",
       "3        33750.0        1.0         0.0          1.0        0.0   \n",
       "4        11250.0        0.0         1.0          1.0        1.0   \n",
       "\n",
       "   Credit_Amount  Loan_Annuity  Client_Education  Client_Gender  \\\n",
       "0       61190.55       3416.85                 4              1   \n",
       "1       59527.35       2788.20                 1              1   \n",
       "2       53870.40       2295.45                 4              1   \n",
       "3      133988.40       3547.35                 4              0   \n",
       "4       13752.00        653.85                 4              0   \n",
       "\n",
       "   Loan_Contract_Type  ...  ID_Days  Client_Family_Members  \\\n",
       "0                   0  ...    383.0                    2.0   \n",
       "1                   0  ...    331.0                    2.0   \n",
       "2                   0  ...    775.0                    2.0   \n",
       "3                   0  ...   4043.0                    4.0   \n",
       "4                   0  ...   3910.0                    2.0   \n",
       "\n",
       "   Cleint_City_Rating  Score_Source_2  Score_Source_3  Phone_Change  Default  \\\n",
       "0                 2.0        0.478787        0.478787          63.0        0   \n",
       "1                 2.0        0.552795        0.329655         277.0        0   \n",
       "2                 3.0        0.135182        0.631355        1700.0        0   \n",
       "3                 1.0        0.301182        0.355639         674.0        0   \n",
       "4                 2.0        0.697928        0.420611         739.0        0   \n",
       "\n",
       "   balance_ratio  avg_source_score  capablity  \n",
       "0       9.065267          0.478787   0.506200  \n",
       "1       3.307075          0.441225   0.154900  \n",
       "2       3.420343          0.383268   0.145743  \n",
       "3       3.970027          0.328410   0.105107  \n",
       "4       1.222400          0.559269   0.058120  \n",
       "\n",
       "[5 rows x 25 columns]"
      ]
     },
     "execution_count": 3,
     "metadata": {},
     "output_type": "execute_result"
    }
   ],
   "source": [
    "#read dataset \n",
    "df=pd.read_csv(\"cleaned_dataset.csv\")\n",
    "df.head(5)"
   ]
  },
  {
   "cell_type": "code",
   "execution_count": 6,
   "metadata": {},
   "outputs": [],
   "source": [
    "## Segregation of dependent and independent features\n",
    "y=df['Default']\n",
    "X=df.drop('Default',axis=1)"
   ]
  },
  {
   "cell_type": "code",
   "execution_count": 7,
   "metadata": {},
   "outputs": [
    {
     "data": {
      "text/plain": [
       "0        0\n",
       "1        0\n",
       "2        0\n",
       "3        0\n",
       "4        0\n",
       "        ..\n",
       "81687    1\n",
       "81688    0\n",
       "81689    0\n",
       "81690    0\n",
       "81691    0\n",
       "Name: Default, Length: 81692, dtype: int64"
      ]
     },
     "execution_count": 7,
     "metadata": {},
     "output_type": "execute_result"
    }
   ],
   "source": [
    "y"
   ]
  },
  {
   "cell_type": "code",
   "execution_count": 10,
   "metadata": {},
   "outputs": [],
   "source": [
    "X_train,X_test,y_train,y_test=train_test_split(X,y,test_size=0.30,random_state=30)"
   ]
  },
  {
   "cell_type": "code",
   "execution_count": 15,
   "metadata": {},
   "outputs": [],
   "source": [
    "preprocessor=StandardScaler()\n",
    "X_train=pd.DataFrame(preprocessor.fit_transform(X_train),columns=preprocessor.get_feature_names_out())\n",
    "X_test=pd.DataFrame(preprocessor.transform(X_test),columns=preprocessor.get_feature_names_out())"
   ]
  },
  {
   "cell_type": "code",
   "execution_count": 26,
   "metadata": {},
   "outputs": [],
   "source": [
    "#ROC dict for TPR and FPR values\n",
    "roc_dict = {}\n",
    "#precision recall curve\n",
    "prc_dict = {}\n",
    "\n",
    "def modify_roc_dict(clf, y_test, X_test, name ,dict_modify):\n",
    "    \"\"\"\n",
    "    modifies a dictionary in place and adds keys for ROC metrics\n",
    "    \"\"\"\n",
    "    \n",
    "    fpr, tpr, thresholds = roc_curve(y_test,\n",
    "                                     clf.predict_proba(X_test)[:,1],\n",
    "                                     pos_label=1)\n",
    "    \n",
    "    \n",
    "    clf_roc_dict = {'fpr':fpr, 'tpr': tpr, 'thresholds': thresholds}\n",
    "    \n",
    "    dict_modify[name] = clf_roc_dict\n",
    "    \n",
    "def modify_prc_dict(clf, y_test, X_test, name ,dict_modify):\n",
    "    \"\"\"\n",
    "    modifies a dictionary in place and adds keys for precision recall metrics\n",
    "    \"\"\"\n",
    "    \n",
    "    precision, recall, thresholds = precision_recall_curve(y_test,\n",
    "                                     clf.predict_proba(X_test)[:,1],\n",
    "                                     pos_label=1)\n",
    "    \n",
    "    clf_prc_dict = {'precision':precision, 'recall': recall, 'thresholds': thresholds}\n",
    "    \n",
    "    dict_modify[name] = clf_prc_dict"
   ]
  },
  {
   "cell_type": "code",
   "execution_count": 27,
   "metadata": {},
   "outputs": [],
   "source": [
    "def fit_score_clf(clf, X_train, y_train, X_test, y_test, name='clf'):\n",
    "   \n",
    "    clf.fit(X_train, y_train)\n",
    "    y_pred = clf.predict(X_test)\n",
    "    clf_report = pd.DataFrame(classification_report(y_test, y_pred, output_dict=True))\n",
    "    clf_report['clf'] = name\n",
    "    \n",
    "    return clf_report"
   ]
  },
  {
   "cell_type": "code",
   "execution_count": 28,
   "metadata": {},
   "outputs": [
    {
     "data": {
      "text/html": [
       "<div>\n",
       "<style scoped>\n",
       "    .dataframe tbody tr th:only-of-type {\n",
       "        vertical-align: middle;\n",
       "    }\n",
       "\n",
       "    .dataframe tbody tr th {\n",
       "        vertical-align: top;\n",
       "    }\n",
       "\n",
       "    .dataframe thead th {\n",
       "        text-align: right;\n",
       "    }\n",
       "</style>\n",
       "<table border=\"1\" class=\"dataframe\">\n",
       "  <thead>\n",
       "    <tr style=\"text-align: right;\">\n",
       "      <th></th>\n",
       "      <th>0</th>\n",
       "      <th>1</th>\n",
       "      <th>accuracy</th>\n",
       "      <th>macro avg</th>\n",
       "      <th>weighted avg</th>\n",
       "      <th>clf</th>\n",
       "    </tr>\n",
       "  </thead>\n",
       "  <tbody>\n",
       "    <tr>\n",
       "      <th>precision</th>\n",
       "      <td>0.917490</td>\n",
       "      <td>0.500000</td>\n",
       "      <td>0.917456</td>\n",
       "      <td>0.708745</td>\n",
       "      <td>0.883028</td>\n",
       "      <td>lr</td>\n",
       "    </tr>\n",
       "    <tr>\n",
       "      <th>recall</th>\n",
       "      <td>0.999956</td>\n",
       "      <td>0.000494</td>\n",
       "      <td>0.917456</td>\n",
       "      <td>0.500225</td>\n",
       "      <td>0.917456</td>\n",
       "      <td>lr</td>\n",
       "    </tr>\n",
       "    <tr>\n",
       "      <th>f1-score</th>\n",
       "      <td>0.956949</td>\n",
       "      <td>0.000988</td>\n",
       "      <td>0.917456</td>\n",
       "      <td>0.478968</td>\n",
       "      <td>0.878040</td>\n",
       "      <td>lr</td>\n",
       "    </tr>\n",
       "    <tr>\n",
       "      <th>support</th>\n",
       "      <td>22485.000000</td>\n",
       "      <td>2023.000000</td>\n",
       "      <td>0.917456</td>\n",
       "      <td>24508.000000</td>\n",
       "      <td>24508.000000</td>\n",
       "      <td>lr</td>\n",
       "    </tr>\n",
       "  </tbody>\n",
       "</table>\n",
       "</div>"
      ],
      "text/plain": [
       "                      0            1  accuracy     macro avg  weighted avg clf\n",
       "precision      0.917490     0.500000  0.917456      0.708745      0.883028  lr\n",
       "recall         0.999956     0.000494  0.917456      0.500225      0.917456  lr\n",
       "f1-score       0.956949     0.000988  0.917456      0.478968      0.878040  lr\n",
       "support    22485.000000  2023.000000  0.917456  24508.000000  24508.000000  lr"
      ]
     },
     "execution_count": 28,
     "metadata": {},
     "output_type": "execute_result"
    }
   ],
   "source": [
    "## Logistic Regression\n",
    "lr  = LogisticRegression(penalty='l2',\n",
    "                         C=1.0,\n",
    "                         solver = 'lbfgs',\n",
    "                         max_iter=400,\n",
    "                         n_jobs=-1)\n",
    "\n",
    "lr_report = fit_score_clf(lr, X_train, y_train, X_test, y_test, name='lr')\n",
    "\n",
    "modify_roc_dict(clf=lr,\n",
    "                y_test=y_test,\n",
    "                X_test=X_test,\n",
    "                name='Logistic Regression', \n",
    "                dict_modify=roc_dict)\n",
    "modify_prc_dict(clf=lr,\n",
    "                y_test=y_test,\n",
    "                X_test=X_test,\n",
    "                name='Logistic Regression',\n",
    "                dict_modify=prc_dict)\n",
    "lr_report.head()"
   ]
  },
  {
   "cell_type": "code",
   "execution_count": 29,
   "metadata": {},
   "outputs": [
    {
     "data": {
      "text/html": [
       "<div>\n",
       "<style scoped>\n",
       "    .dataframe tbody tr th:only-of-type {\n",
       "        vertical-align: middle;\n",
       "    }\n",
       "\n",
       "    .dataframe tbody tr th {\n",
       "        vertical-align: top;\n",
       "    }\n",
       "\n",
       "    .dataframe thead th {\n",
       "        text-align: right;\n",
       "    }\n",
       "</style>\n",
       "<table border=\"1\" class=\"dataframe\">\n",
       "  <thead>\n",
       "    <tr style=\"text-align: right;\">\n",
       "      <th></th>\n",
       "      <th>0</th>\n",
       "      <th>1</th>\n",
       "      <th>accuracy</th>\n",
       "      <th>macro avg</th>\n",
       "      <th>weighted avg</th>\n",
       "      <th>clf</th>\n",
       "    </tr>\n",
       "  </thead>\n",
       "  <tbody>\n",
       "    <tr>\n",
       "      <th>precision</th>\n",
       "      <td>0.917647</td>\n",
       "      <td>0.375000</td>\n",
       "      <td>0.917292</td>\n",
       "      <td>0.646323</td>\n",
       "      <td>0.872854</td>\n",
       "      <td>gbtree</td>\n",
       "    </tr>\n",
       "    <tr>\n",
       "      <th>recall</th>\n",
       "      <td>0.999555</td>\n",
       "      <td>0.002966</td>\n",
       "      <td>0.917292</td>\n",
       "      <td>0.501261</td>\n",
       "      <td>0.917292</td>\n",
       "      <td>gbtree</td>\n",
       "    </tr>\n",
       "    <tr>\n",
       "      <th>f1-score</th>\n",
       "      <td>0.956851</td>\n",
       "      <td>0.005885</td>\n",
       "      <td>0.917292</td>\n",
       "      <td>0.481368</td>\n",
       "      <td>0.878354</td>\n",
       "      <td>gbtree</td>\n",
       "    </tr>\n",
       "    <tr>\n",
       "      <th>support</th>\n",
       "      <td>22485.000000</td>\n",
       "      <td>2023.000000</td>\n",
       "      <td>0.917292</td>\n",
       "      <td>24508.000000</td>\n",
       "      <td>24508.000000</td>\n",
       "      <td>gbtree</td>\n",
       "    </tr>\n",
       "  </tbody>\n",
       "</table>\n",
       "</div>"
      ],
      "text/plain": [
       "                      0            1  accuracy     macro avg  weighted avg  \\\n",
       "precision      0.917647     0.375000  0.917292      0.646323      0.872854   \n",
       "recall         0.999555     0.002966  0.917292      0.501261      0.917292   \n",
       "f1-score       0.956851     0.005885  0.917292      0.481368      0.878354   \n",
       "support    22485.000000  2023.000000  0.917292  24508.000000  24508.000000   \n",
       "\n",
       "              clf  \n",
       "precision  gbtree  \n",
       "recall     gbtree  \n",
       "f1-score   gbtree  \n",
       "support    gbtree  "
      ]
     },
     "execution_count": 29,
     "metadata": {},
     "output_type": "execute_result"
    }
   ],
   "source": [
    "gbtree = GradientBoostingClassifier(learning_rate=0.1, n_estimators = 100)\n",
    "\n",
    "gbtree_report = fit_score_clf(gbtree, X_train, y_train, X_test, y_test, name='gbtree')\n",
    "\n",
    "modify_roc_dict(gbtree, y_test, X_test, name='GBTree',dict_modify=roc_dict)\n",
    "modify_prc_dict(clf=gbtree,y_test=y_test,X_test=X_test,name='GBTree',\n",
    "                dict_modify=prc_dict)\n",
    "gbtree_report.head()"
   ]
  },
  {
   "cell_type": "code",
   "execution_count": 30,
   "metadata": {},
   "outputs": [
    {
     "data": {
      "text/html": [
       "<div>\n",
       "<style scoped>\n",
       "    .dataframe tbody tr th:only-of-type {\n",
       "        vertical-align: middle;\n",
       "    }\n",
       "\n",
       "    .dataframe tbody tr th {\n",
       "        vertical-align: top;\n",
       "    }\n",
       "\n",
       "    .dataframe thead th {\n",
       "        text-align: right;\n",
       "    }\n",
       "</style>\n",
       "<table border=\"1\" class=\"dataframe\">\n",
       "  <thead>\n",
       "    <tr style=\"text-align: right;\">\n",
       "      <th></th>\n",
       "      <th>0</th>\n",
       "      <th>1</th>\n",
       "      <th>accuracy</th>\n",
       "      <th>macro avg</th>\n",
       "      <th>weighted avg</th>\n",
       "      <th>clf</th>\n",
       "    </tr>\n",
       "  </thead>\n",
       "  <tbody>\n",
       "    <tr>\n",
       "      <th>precision</th>\n",
       "      <td>0.919889</td>\n",
       "      <td>0.970149</td>\n",
       "      <td>0.920026</td>\n",
       "      <td>0.945019</td>\n",
       "      <td>0.924037</td>\n",
       "      <td>rf</td>\n",
       "    </tr>\n",
       "    <tr>\n",
       "      <th>recall</th>\n",
       "      <td>0.999911</td>\n",
       "      <td>0.032130</td>\n",
       "      <td>0.920026</td>\n",
       "      <td>0.516021</td>\n",
       "      <td>0.920026</td>\n",
       "      <td>rf</td>\n",
       "    </tr>\n",
       "    <tr>\n",
       "      <th>f1-score</th>\n",
       "      <td>0.958232</td>\n",
       "      <td>0.062201</td>\n",
       "      <td>0.920026</td>\n",
       "      <td>0.510217</td>\n",
       "      <td>0.884270</td>\n",
       "      <td>rf</td>\n",
       "    </tr>\n",
       "    <tr>\n",
       "      <th>support</th>\n",
       "      <td>22485.000000</td>\n",
       "      <td>2023.000000</td>\n",
       "      <td>0.920026</td>\n",
       "      <td>24508.000000</td>\n",
       "      <td>24508.000000</td>\n",
       "      <td>rf</td>\n",
       "    </tr>\n",
       "  </tbody>\n",
       "</table>\n",
       "</div>"
      ],
      "text/plain": [
       "                      0            1  accuracy     macro avg  weighted avg clf\n",
       "precision      0.919889     0.970149  0.920026      0.945019      0.924037  rf\n",
       "recall         0.999911     0.032130  0.920026      0.516021      0.920026  rf\n",
       "f1-score       0.958232     0.062201  0.920026      0.510217      0.884270  rf\n",
       "support    22485.000000  2023.000000  0.920026  24508.000000  24508.000000  rf"
      ]
     },
     "execution_count": 30,
     "metadata": {},
     "output_type": "execute_result"
    }
   ],
   "source": [
    "rf = RandomForestClassifier(n_estimators=100, n_jobs=-1)\n",
    "\n",
    "rf_report = fit_score_clf(rf, X_train, y_train, X_test, y_test, name='rf')\n",
    "\n",
    "modify_roc_dict(rf, y_test, X_test, name='RandomForest',dict_modify=roc_dict)\n",
    "modify_prc_dict(clf=rf,y_test=y_test,X_test=X_test,name='RandomForest',           \n",
    "                dict_modify=prc_dict)\n",
    "rf_report.head()"
   ]
  },
  {
   "cell_type": "code",
   "execution_count": 31,
   "metadata": {},
   "outputs": [
    {
     "data": {
      "text/html": [
       "<div>\n",
       "<style scoped>\n",
       "    .dataframe tbody tr th:only-of-type {\n",
       "        vertical-align: middle;\n",
       "    }\n",
       "\n",
       "    .dataframe tbody tr th {\n",
       "        vertical-align: top;\n",
       "    }\n",
       "\n",
       "    .dataframe thead th {\n",
       "        text-align: right;\n",
       "    }\n",
       "</style>\n",
       "<table border=\"1\" class=\"dataframe\">\n",
       "  <thead>\n",
       "    <tr style=\"text-align: right;\">\n",
       "      <th></th>\n",
       "      <th>0</th>\n",
       "      <th>1</th>\n",
       "      <th>accuracy</th>\n",
       "      <th>macro avg</th>\n",
       "      <th>weighted avg</th>\n",
       "      <th>clf</th>\n",
       "    </tr>\n",
       "  </thead>\n",
       "  <tbody>\n",
       "    <tr>\n",
       "      <th>precision</th>\n",
       "      <td>0.922265</td>\n",
       "      <td>0.428571</td>\n",
       "      <td>0.915497</td>\n",
       "      <td>0.675418</td>\n",
       "      <td>0.881514</td>\n",
       "      <td>xgb</td>\n",
       "    </tr>\n",
       "    <tr>\n",
       "      <th>recall</th>\n",
       "      <td>0.991461</td>\n",
       "      <td>0.071181</td>\n",
       "      <td>0.915497</td>\n",
       "      <td>0.531321</td>\n",
       "      <td>0.915497</td>\n",
       "      <td>xgb</td>\n",
       "    </tr>\n",
       "    <tr>\n",
       "      <th>f1-score</th>\n",
       "      <td>0.955612</td>\n",
       "      <td>0.122086</td>\n",
       "      <td>0.915497</td>\n",
       "      <td>0.538849</td>\n",
       "      <td>0.886809</td>\n",
       "      <td>xgb</td>\n",
       "    </tr>\n",
       "    <tr>\n",
       "      <th>support</th>\n",
       "      <td>22485.000000</td>\n",
       "      <td>2023.000000</td>\n",
       "      <td>0.915497</td>\n",
       "      <td>24508.000000</td>\n",
       "      <td>24508.000000</td>\n",
       "      <td>xgb</td>\n",
       "    </tr>\n",
       "  </tbody>\n",
       "</table>\n",
       "</div>"
      ],
      "text/plain": [
       "                      0            1  accuracy     macro avg  weighted avg  \\\n",
       "precision      0.922265     0.428571  0.915497      0.675418      0.881514   \n",
       "recall         0.991461     0.071181  0.915497      0.531321      0.915497   \n",
       "f1-score       0.955612     0.122086  0.915497      0.538849      0.886809   \n",
       "support    22485.000000  2023.000000  0.915497  24508.000000  24508.000000   \n",
       "\n",
       "           clf  \n",
       "precision  xgb  \n",
       "recall     xgb  \n",
       "f1-score   xgb  \n",
       "support    xgb  "
      ]
     },
     "execution_count": 31,
     "metadata": {},
     "output_type": "execute_result"
    }
   ],
   "source": [
    "xgb_clf = xgb.XGBClassifier(n_estimators=300,subsample=0.9,n_jobs=-1)\n",
    "xgb_report = fit_score_clf(xgb_clf, X_train, y_train, X_test, y_test, name='xgb')\n",
    "\n",
    "modify_roc_dict(xgb_clf, y_test, X_test, name='XGBoost',dict_modify=roc_dict)\n",
    "modify_prc_dict(clf=xgb_clf,y_test=y_test,X_test=X_test,name='XGBoost',\n",
    "                dict_modify=prc_dict)\n",
    "xgb_report.head()"
   ]
  },
  {
   "cell_type": "code",
   "execution_count": 32,
   "metadata": {},
   "outputs": [
    {
     "data": {
      "text/plain": [
       "dict_keys(['Logistic Regression', 'GBTree', 'RandomForest', 'XGBoost'])"
      ]
     },
     "execution_count": 32,
     "metadata": {},
     "output_type": "execute_result"
    }
   ],
   "source": [
    "roc_dict.keys()"
   ]
  },
  {
   "cell_type": "code",
   "execution_count": 34,
   "metadata": {},
   "outputs": [
    {
     "data": {
      "image/png": "[encoded data removed]",
      "text/plain": [
       "<Figure size 640x480 with 1 Axes>"
      ]
     },
     "metadata": {},
     "output_type": "display_data"
    }
   ],
   "source": [
    "for key in roc_dict:\n",
    "    clf = roc_dict[key]\n",
    "    plt.plot(clf['fpr'], clf['tpr'], label=key)\n",
    "plt.xlabel(\"FPR\")\n",
    "plt.ylabel(\"TPR\")\n",
    "plt.title(\"ROC\")\n",
    "plt.plot([0,1], [0,1], label='No Discrimination', linestyle='-', dashes=(5, 5))\n",
    "plt.savefig(os.path.join('roc_curve_all_models.png'))\n",
    "plt.legend()\n",
    "plt.show()"
   ]
  },
  {
   "cell_type": "code",
   "execution_count": 35,
   "metadata": {},
   "outputs": [
    {
     "data": {
      "image/png": "[encoded data removed]",
      "text/plain": [
       "<Figure size 640x480 with 1 Axes>"
      ]
     },
     "metadata": {},
     "output_type": "display_data"
    }
   ],
   "source": [
    "for key in prc_dict:\n",
    "    clf = prc_dict[key]\n",
    "    plt.plot(clf['precision'], clf['recall'], label=key)\n",
    "plt.xlabel(\"Precision\")\n",
    "plt.ylabel(\"Recall\")\n",
    "plt.title(\"Precision Recall Curve\")\n",
    "plt.savefig(os.path.join('prc_curve_all_models.png'))\n",
    "\n",
    "plt.legend()\n",
    "\n",
    "plt.show()"
   ]
  },
  {
   "cell_type": "code",
   "execution_count": 37,
   "metadata": {},
   "outputs": [
    {
     "name": "stdout",
     "output_type": "stream",
     "text": [
      "Estimate: 11.314\n"
     ]
    },
    {
     "data": {
      "text/html": [
       "<style>#sk-container-id-1 {color: black;}#sk-container-id-1 pre{padding: 0;}#sk-container-id-1 div.sk-toggleable {background-color: white;}#sk-container-id-1 label.sk-toggleable__label {cursor: pointer;display: block;width: 100%;margin-bottom: 0;padding: 0.3em;box-sizing: border-box;text-align: center;}#sk-container-id-1 label.sk-toggleable__label-arrow:before {content: \"▸\";float: left;margin-right: 0.25em;color: #696969;}#sk-container-id-1 label.sk-toggleable__label-arrow:hover:before {color: black;}#sk-container-id-1 div.sk-estimator:hover label.sk-toggleable__label-arrow:before {color: black;}#sk-container-id-1 div.sk-toggleable__content {max-height: 0;max-width: 0;overflow: hidden;text-align: left;background-color: #f0f8ff;}#sk-container-id-1 div.sk-toggleable__content pre {margin: 0.2em;color: black;border-radius: 0.25em;background-color: #f0f8ff;}#sk-container-id-1 input.sk-toggleable__control:checked~div.sk-toggleable__content {max-height: 200px;max-width: 100%;overflow: auto;}#sk-container-id-1 input.sk-toggleable__control:checked~label.sk-toggleable__label-arrow:before {content: \"▾\";}#sk-container-id-1 div.sk-estimator input.sk-toggleable__control:checked~label.sk-toggleable__label {background-color: #d4ebff;}#sk-container-id-1 div.sk-label input.sk-toggleable__control:checked~label.sk-toggleable__label {background-color: #d4ebff;}#sk-container-id-1 input.sk-hidden--visually {border: 0;clip: rect(1px 1px 1px 1px);clip: rect(1px, 1px, 1px, 1px);height: 1px;margin: -1px;overflow: hidden;padding: 0;position: absolute;width: 1px;}#sk-container-id-1 div.sk-estimator {font-family: monospace;background-color: #f0f8ff;border: 1px dotted black;border-radius: 0.25em;box-sizing: border-box;margin-bottom: 0.5em;}#sk-container-id-1 div.sk-estimator:hover {background-color: #d4ebff;}#sk-container-id-1 div.sk-parallel-item::after {content: \"\";width: 100%;border-bottom: 1px solid gray;flex-grow: 1;}#sk-container-id-1 div.sk-label:hover label.sk-toggleable__label {background-color: #d4ebff;}#sk-container-id-1 div.sk-serial::before {content: \"\";position: absolute;border-left: 1px solid gray;box-sizing: border-box;top: 0;bottom: 0;left: 50%;z-index: 0;}#sk-container-id-1 div.sk-serial {display: flex;flex-direction: column;align-items: center;background-color: white;padding-right: 0.2em;padding-left: 0.2em;position: relative;}#sk-container-id-1 div.sk-item {position: relative;z-index: 1;}#sk-container-id-1 div.sk-parallel {display: flex;align-items: stretch;justify-content: center;background-color: white;position: relative;}#sk-container-id-1 div.sk-item::before, #sk-container-id-1 div.sk-parallel-item::before {content: \"\";position: absolute;border-left: 1px solid gray;box-sizing: border-box;top: 0;bottom: 0;left: 50%;z-index: -1;}#sk-container-id-1 div.sk-parallel-item {display: flex;flex-direction: column;z-index: 1;position: relative;background-color: white;}#sk-container-id-1 div.sk-parallel-item:first-child::after {align-self: flex-end;width: 50%;}#sk-container-id-1 div.sk-parallel-item:last-child::after {align-self: flex-start;width: 50%;}#sk-container-id-1 div.sk-parallel-item:only-child::after {width: 0;}#sk-container-id-1 div.sk-dashed-wrapped {border: 1px dashed gray;margin: 0 0.4em 0.5em 0.4em;box-sizing: border-box;padding-bottom: 0.4em;background-color: white;}#sk-container-id-1 div.sk-label label {font-family: monospace;font-weight: bold;display: inline-block;line-height: 1.2em;}#sk-container-id-1 div.sk-label-container {text-align: center;}#sk-container-id-1 div.sk-container {/* jupyter's `normalize.less` sets `[hidden] { display: none; }` but bootstrap.min.css set `[hidden] { display: none !important; }` so we also need the `!important` here to be able to override the default hidden behavior on the sphinx rendered scikit-learn.org. See: https://github.com/scikit-learn/scikit-learn/issues/21755 */display: inline-block !important;position: relative;}#sk-container-id-1 div.sk-text-repr-fallback {display: none;}</style><div id=\"sk-container-id-1\" class=\"sk-top-container\"><div class=\"sk-text-repr-fallback\"><pre>GradientBoostingClassifier()</pre><b>In a Jupyter environment, please rerun this cell to show the HTML representation or trust the notebook. <br />On GitHub, the HTML representation is unable to render, please try loading this page with nbviewer.org.</b></div><div class=\"sk-container\" hidden><div class=\"sk-item\"><div class=\"sk-estimator sk-toggleable\"><input class=\"sk-toggleable__control sk-hidden--visually\" id=\"sk-estimator-id-1\" type=\"checkbox\" checked><label for=\"sk-estimator-id-1\" class=\"sk-toggleable__label sk-toggleable__label-arrow\">GradientBoostingClassifier</label><div class=\"sk-toggleable__content\"><pre>GradientBoostingClassifier()</pre></div></div></div></div></div>"
      ],
      "text/plain": [
       "GradientBoostingClassifier()"
      ]
     },
     "execution_count": 37,
     "metadata": {},
     "output_type": "execute_result"
    }
   ],
   "source": [
    "from collections import Counter\n",
    "counter = Counter(y_train)\n",
    "# estimate scale_pos_weight value\n",
    "estimate = counter[0] / counter[1]\n",
    "print('Estimate: %.3f' % estimate)\n",
    "gbtree_clf = GradientBoostingClassifier(learning_rate=0.1, n_estimators = 100)\n",
    "\n",
    "gbtree_clf.fit(X_train, y_train)"
   ]
  },
  {
   "cell_type": "code",
   "execution_count": 44,
   "metadata": {},
   "outputs": [
    {
     "name": "stdout",
     "output_type": "stream",
     "text": [
      "Saving model as: gbtree_default_params.pkl\n"
     ]
    }
   ],
   "source": [
    "save_model_dir = ('gbtree_default_params.pkl')\n",
    "print(\"Saving model as: {}\".format(save_model_dir))\n",
    "\n",
    "#save the model\n",
    "with open(save_model_dir, 'wb') as handle:\n",
    "    pickle.dump(gbtree_clf,handle,protocol=pickle.HIGHEST_PROTOCOL)"
   ]
  },
  {
   "cell_type": "code",
   "execution_count": 46,
   "metadata": {},
   "outputs": [
    {
     "ename": "TypeError",
     "evalue": "'numpy.ndarray' object is not callable",
     "output_type": "error",
     "traceback": [
      "\u001b[0;31m---------------------------------------------------------------------------\u001b[0m",
      "\u001b[0;31mTypeError\u001b[0m                                 Traceback (most recent call last)",
      "Cell \u001b[0;32mIn[46], line 1\u001b[0m\n\u001b[0;32m----> 1\u001b[0m \u001b[43mgbtree\u001b[49m\u001b[38;5;241;43m.\u001b[39;49m\u001b[43mfeature_importances_\u001b[49m\u001b[43m(\u001b[49m\u001b[43m  \u001b[49m\u001b[43m)\u001b[49m\n",
      "\u001b[0;31mTypeError\u001b[0m: 'numpy.ndarray' object is not callable"
     ]
    }
   ],
   "source": [
    "gbtree.feature_importances_(  )"
   ]
  },
  {
   "cell_type": "code",
   "execution_count": 47,
   "metadata": {},
   "outputs": [
    {
     "data": {
      "image/png": "[encoded data removed]",
      "text/plain": [
       "<Figure size 1000x600 with 1 Axes>"
      ]
     },
     "metadata": {},
     "output_type": "display_data"
    }
   ],
   "source": [
    "importances = xgb_clf.feature_importances_\n",
    "feature_names = X_train.columns\n",
    "feature_importance_df = pd.DataFrame({'Feature': feature_names, 'Importance': importances})\n",
    "feature_importance_df = feature_importance_df.sort_values(by='Importance', ascending=False)\n",
    "\n",
    "k = 10  \n",
    "plt.figure(figsize=(10, 6))\n",
    "plt.barh(feature_importance_df['Feature'][:k], feature_importance_df['Importance'][:k])\n",
    "plt.xlabel('Importance')\n",
    "plt.ylabel('Feature')\n",
    "plt.title('Top {} Important Features'.format(k))\n",
    "plt.gca().invert_yaxis()  # invert y-axis to show the most important features at the top\n",
    "plt.show()"
   ]
  },
  {
   "cell_type": "code",
   "execution_count": 58,
   "metadata": {},
   "outputs": [],
   "source": [
    "y_pred=gbtree_clf.predict(X_test)\n",
    "y_prob=gbtree_clf.predict_proba(X_test)"
   ]
  },
  {
   "cell_type": "code",
   "execution_count": 60,
   "metadata": {},
   "outputs": [],
   "source": [
    "y_prob=y_prob[:, 1] #keeping positive outcome only"
   ]
  },
  {
   "cell_type": "code",
   "execution_count": 61,
   "metadata": {},
   "outputs": [
    {
     "name": "stdout",
     "output_type": "stream",
     "text": [
      "AUC: 0.728\n"
     ]
    }
   ],
   "source": [
    "auc = roc_auc_score(y_test, y_prob)\n",
    "print('AUC: %.3f' % auc)"
   ]
  },
  {
   "cell_type": "code",
   "execution_count": null,
   "metadata": {},
   "outputs": [],
   "source": []
  }
 ],
 "metadata": {
  "kernelspec": {
   "display_name": "Python 3.8.10 64-bit",
   "language": "python",
   "name": "python3"
  },
  "language_info": {
   "codemirror_mode": {
    "name": "ipython",
    "version": 3
   },
   "file_extension": ".py",
   "mimetype": "text/x-python",
   "name": "python",
   "nbconvert_exporter": "python",
   "pygments_lexer": "ipython3",
   "version": "3.8.10"
  },
  "orig_nbformat": 4,
  "vscode": {
   "interpreter": {
    "hash": "e7370f93d1d0cde622a1f8e1c04877d8463912d04d973331ad4851f04de6915a"
   }
  }
 },
 "nbformat": 4,
 "nbformat_minor": 2
}
