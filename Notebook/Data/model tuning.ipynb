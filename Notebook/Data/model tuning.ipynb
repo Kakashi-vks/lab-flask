{
 "cells": [
  {
   "cell_type": "code",
   "execution_count": 24,
   "metadata": {},
   "outputs": [],
   "source": [
    "import pandas as pd \n",
    "import os\n",
    "from collections import Counter\n",
    "from sklearn.model_selection import train_test_split\n",
    "from sklearn.preprocessing import StandardScaler\n",
    "from sklearn.ensemble import GradientBoostingClassifier \n",
    "from imblearn.pipeline import Pipeline\n",
    "from sklearn.model_selection import GridSearchCV\n",
    "from sklearn.metrics import classification_report, roc_curve, precision_recall_curve, roc_auc_score,confusion_matrix,f1_score\n",
    "import matplotlib.pyplot as plt\n",
    "import pickle"
   ]
  },
  {
   "cell_type": "code",
   "execution_count": 5,
   "metadata": {},
   "outputs": [
    {
     "data": {
      "text/html": [
       "<div>\n",
       "<style scoped>\n",
       "    .dataframe tbody tr th:only-of-type {\n",
       "        vertical-align: middle;\n",
       "    }\n",
       "\n",
       "    .dataframe tbody tr th {\n",
       "        vertical-align: top;\n",
       "    }\n",
       "\n",
       "    .dataframe thead th {\n",
       "        text-align: right;\n",
       "    }\n",
       "</style>\n",
       "<table border=\"1\" class=\"dataframe\">\n",
       "  <thead>\n",
       "    <tr style=\"text-align: right;\">\n",
       "      <th></th>\n",
       "      <th>Client_Income</th>\n",
       "      <th>Car_Owned</th>\n",
       "      <th>Bike_Owned</th>\n",
       "      <th>Active_Loan</th>\n",
       "      <th>House_Own</th>\n",
       "      <th>Credit_Amount</th>\n",
       "      <th>Loan_Annuity</th>\n",
       "      <th>Client_Education</th>\n",
       "      <th>Client_Gender</th>\n",
       "      <th>Loan_Contract_Type</th>\n",
       "      <th>...</th>\n",
       "      <th>ID_Days</th>\n",
       "      <th>Client_Family_Members</th>\n",
       "      <th>Cleint_City_Rating</th>\n",
       "      <th>Score_Source_2</th>\n",
       "      <th>Score_Source_3</th>\n",
       "      <th>Phone_Change</th>\n",
       "      <th>Default</th>\n",
       "      <th>balance_ratio</th>\n",
       "      <th>avg_source_score</th>\n",
       "      <th>capablity</th>\n",
       "    </tr>\n",
       "  </thead>\n",
       "  <tbody>\n",
       "    <tr>\n",
       "      <th>0</th>\n",
       "      <td>6750.0</td>\n",
       "      <td>0.0</td>\n",
       "      <td>0.0</td>\n",
       "      <td>1.0</td>\n",
       "      <td>0.0</td>\n",
       "      <td>61190.55</td>\n",
       "      <td>3416.85</td>\n",
       "      <td>4</td>\n",
       "      <td>1</td>\n",
       "      <td>0</td>\n",
       "      <td>...</td>\n",
       "      <td>383.0</td>\n",
       "      <td>2.0</td>\n",
       "      <td>2.0</td>\n",
       "      <td>0.478787</td>\n",
       "      <td>0.478787</td>\n",
       "      <td>63.0</td>\n",
       "      <td>0</td>\n",
       "      <td>9.065267</td>\n",
       "      <td>0.478787</td>\n",
       "      <td>0.506200</td>\n",
       "    </tr>\n",
       "    <tr>\n",
       "      <th>1</th>\n",
       "      <td>18000.0</td>\n",
       "      <td>0.0</td>\n",
       "      <td>0.0</td>\n",
       "      <td>1.0</td>\n",
       "      <td>0.0</td>\n",
       "      <td>59527.35</td>\n",
       "      <td>2788.20</td>\n",
       "      <td>1</td>\n",
       "      <td>1</td>\n",
       "      <td>0</td>\n",
       "      <td>...</td>\n",
       "      <td>331.0</td>\n",
       "      <td>2.0</td>\n",
       "      <td>2.0</td>\n",
       "      <td>0.552795</td>\n",
       "      <td>0.329655</td>\n",
       "      <td>277.0</td>\n",
       "      <td>0</td>\n",
       "      <td>3.307075</td>\n",
       "      <td>0.441225</td>\n",
       "      <td>0.154900</td>\n",
       "    </tr>\n",
       "    <tr>\n",
       "      <th>2</th>\n",
       "      <td>15750.0</td>\n",
       "      <td>0.0</td>\n",
       "      <td>0.0</td>\n",
       "      <td>1.0</td>\n",
       "      <td>1.0</td>\n",
       "      <td>53870.40</td>\n",
       "      <td>2295.45</td>\n",
       "      <td>4</td>\n",
       "      <td>1</td>\n",
       "      <td>0</td>\n",
       "      <td>...</td>\n",
       "      <td>775.0</td>\n",
       "      <td>2.0</td>\n",
       "      <td>3.0</td>\n",
       "      <td>0.135182</td>\n",
       "      <td>0.631355</td>\n",
       "      <td>1700.0</td>\n",
       "      <td>0</td>\n",
       "      <td>3.420343</td>\n",
       "      <td>0.383268</td>\n",
       "      <td>0.145743</td>\n",
       "    </tr>\n",
       "    <tr>\n",
       "      <th>3</th>\n",
       "      <td>33750.0</td>\n",
       "      <td>1.0</td>\n",
       "      <td>0.0</td>\n",
       "      <td>1.0</td>\n",
       "      <td>0.0</td>\n",
       "      <td>133988.40</td>\n",
       "      <td>3547.35</td>\n",
       "      <td>4</td>\n",
       "      <td>0</td>\n",
       "      <td>0</td>\n",
       "      <td>...</td>\n",
       "      <td>4043.0</td>\n",
       "      <td>4.0</td>\n",
       "      <td>1.0</td>\n",
       "      <td>0.301182</td>\n",
       "      <td>0.355639</td>\n",
       "      <td>674.0</td>\n",
       "      <td>0</td>\n",
       "      <td>3.970027</td>\n",
       "      <td>0.328410</td>\n",
       "      <td>0.105107</td>\n",
       "    </tr>\n",
       "    <tr>\n",
       "      <th>4</th>\n",
       "      <td>11250.0</td>\n",
       "      <td>0.0</td>\n",
       "      <td>1.0</td>\n",
       "      <td>1.0</td>\n",
       "      <td>1.0</td>\n",
       "      <td>13752.00</td>\n",
       "      <td>653.85</td>\n",
       "      <td>4</td>\n",
       "      <td>0</td>\n",
       "      <td>0</td>\n",
       "      <td>...</td>\n",
       "      <td>3910.0</td>\n",
       "      <td>2.0</td>\n",
       "      <td>2.0</td>\n",
       "      <td>0.697928</td>\n",
       "      <td>0.420611</td>\n",
       "      <td>739.0</td>\n",
       "      <td>0</td>\n",
       "      <td>1.222400</td>\n",
       "      <td>0.559269</td>\n",
       "      <td>0.058120</td>\n",
       "    </tr>\n",
       "  </tbody>\n",
       "</table>\n",
       "<p>5 rows × 25 columns</p>\n",
       "</div>"
      ],
      "text/plain": [
       "   Client_Income  Car_Owned  Bike_Owned  Active_Loan  House_Own  \\\n",
       "0         6750.0        0.0         0.0          1.0        0.0   \n",
       "1        18000.0        0.0         0.0          1.0        0.0   \n",
       "2        15750.0        0.0         0.0          1.0        1.0   \n",
       "3        33750.0        1.0         0.0          1.0        0.0   \n",
       "4        11250.0        0.0         1.0          1.0        1.0   \n",
       "\n",
       "   Credit_Amount  Loan_Annuity  Client_Education  Client_Gender  \\\n",
       "0       61190.55       3416.85                 4              1   \n",
       "1       59527.35       2788.20                 1              1   \n",
       "2       53870.40       2295.45                 4              1   \n",
       "3      133988.40       3547.35                 4              0   \n",
       "4       13752.00        653.85                 4              0   \n",
       "\n",
       "   Loan_Contract_Type  ...  ID_Days  Client_Family_Members  \\\n",
       "0                   0  ...    383.0                    2.0   \n",
       "1                   0  ...    331.0                    2.0   \n",
       "2                   0  ...    775.0                    2.0   \n",
       "3                   0  ...   4043.0                    4.0   \n",
       "4                   0  ...   3910.0                    2.0   \n",
       "\n",
       "   Cleint_City_Rating  Score_Source_2  Score_Source_3  Phone_Change  Default  \\\n",
       "0                 2.0        0.478787        0.478787          63.0        0   \n",
       "1                 2.0        0.552795        0.329655         277.0        0   \n",
       "2                 3.0        0.135182        0.631355        1700.0        0   \n",
       "3                 1.0        0.301182        0.355639         674.0        0   \n",
       "4                 2.0        0.697928        0.420611         739.0        0   \n",
       "\n",
       "   balance_ratio  avg_source_score  capablity  \n",
       "0       9.065267          0.478787   0.506200  \n",
       "1       3.307075          0.441225   0.154900  \n",
       "2       3.420343          0.383268   0.145743  \n",
       "3       3.970027          0.328410   0.105107  \n",
       "4       1.222400          0.559269   0.058120  \n",
       "\n",
       "[5 rows x 25 columns]"
      ]
     },
     "execution_count": 5,
     "metadata": {},
     "output_type": "execute_result"
    }
   ],
   "source": [
    "#read dataset \n",
    "df=pd.read_csv(\"cleaned_dataset.csv\")\n",
    "df.head(5)"
   ]
  },
  {
   "cell_type": "code",
   "execution_count": 6,
   "metadata": {},
   "outputs": [],
   "source": [
    "## Segregation of dependent and independent features\n",
    "y=df['Default']\n",
    "X=df.drop('Default',axis=1)"
   ]
  },
  {
   "cell_type": "code",
   "execution_count": 7,
   "metadata": {},
   "outputs": [],
   "source": [
    "X_train,X_test,y_train,y_test=train_test_split(X,y,test_size=0.30,random_state=30)"
   ]
  },
  {
   "cell_type": "code",
   "execution_count": 8,
   "metadata": {},
   "outputs": [],
   "source": [
    "preprocessor=StandardScaler()\n",
    "X_train=pd.DataFrame(preprocessor.fit_transform(X_train),columns=preprocessor.get_feature_names_out())\n",
    "X_test=pd.DataFrame(preprocessor.transform(X_test),columns=preprocessor.get_feature_names_out())"
   ]
  },
  {
   "cell_type": "code",
   "execution_count": 9,
   "metadata": {},
   "outputs": [
    {
     "data": {
      "text/plain": [
       "((57184, 24), (24508, 24))"
      ]
     },
     "execution_count": 9,
     "metadata": {},
     "output_type": "execute_result"
    }
   ],
   "source": [
    "X_train.shape,X_test.shape"
   ]
  },
  {
   "cell_type": "code",
   "execution_count": 10,
   "metadata": {},
   "outputs": [
    {
     "data": {
      "text/plain": [
       "\"counter = Counter(y_train)\\n# estimate scale_pos_weight value\\nestimate = counter[0] / counter[1]\\nprint('Estimate: %.3f' % estimate)\\n#define the param grid\\n# Parameters of pipelines can be set using ‘__’ separated para\\nclf_grid = {\\n    'n_estimators': [100, 200, 300],\\n    'learning_rate': [0.05, 0.1, 0.2],\\n    'max_depth': [3, 5, 7],\\n    'min_samples_split': [2, 5, 10],\\n    'min_samples_leaf': [1, 2, 4],\\n    'subsample': [0.8, 0.9, 1.0]\\n    }\\n#define the pipeline\\nmodel_pipe = Pipeline([('gbtree',GradientBoostingClassifier)])\\n#define the classifer\\nclf = GridSearchCV(estimator=model_pipe, param_grid=clf_grid, cv=3,verbose=50, scoring='roc_auc', n_jobs=-1)\\n#fit to training data\\nclf.fit(X_train, y_train)\""
      ]
     },
     "execution_count": 10,
     "metadata": {},
     "output_type": "execute_result"
    }
   ],
   "source": [
    "'''counter = Counter(y_train)\n",
    "# estimate scale_pos_weight value\n",
    "estimate = counter[0] / counter[1]\n",
    "print('Estimate: %.3f' % estimate)\n",
    "#define the param grid\n",
    "# Parameters of pipelines can be set using ‘__’ separated para\n",
    "clf_grid = {\n",
    "    'n_estimators': [100, 200, 300],\n",
    "    'learning_rate': [0.05, 0.1, 0.2],\n",
    "    'max_depth': [3, 5, 7],\n",
    "    'min_samples_split': [2, 5, 10],\n",
    "    'min_samples_leaf': [1, 2, 4],\n",
    "    'subsample': [0.8, 0.9, 1.0]\n",
    "    }\n",
    "#define the pipeline\n",
    "model_pipe = Pipeline([('gbtree',GradientBoostingClassifier)])\n",
    "#define the classifer\n",
    "clf = GridSearchCV(estimator=model_pipe, param_grid=clf_grid, cv=3,verbose=50, scoring='roc_auc', n_jobs=-1)\n",
    "#fit to training data\n",
    "clf.fit(X_train, y_train)'''"
   ]
  },
  {
   "cell_type": "code",
   "execution_count": 14,
   "metadata": {},
   "outputs": [
    {
     "data": {
      "text/plain": [
       "array([[22475,    10],\n",
       "       [ 2017,     6]])"
      ]
     },
     "execution_count": 14,
     "metadata": {},
     "output_type": "execute_result"
    }
   ],
   "source": [
    "gbtree=GradientBoostingClassifier()\n",
    "gbtree.fit(X_train,y_train)\n",
    "y_pred = gbtree.predict(X_test)\n",
    "confusion_matrix(y_test, y_pred)\n",
    "\n"
   ]
  },
  {
   "cell_type": "code",
   "execution_count": 18,
   "metadata": {},
   "outputs": [
    {
     "data": {
      "image/png": "[encoded data removed]",
      "text/plain": [
       "<Figure size 640x480 with 1 Axes>"
      ]
     },
     "metadata": {},
     "output_type": "display_data"
    },
    {
     "name": "stdout",
     "output_type": "stream",
     "text": [
      "AUC: 0.728\n"
     ]
    }
   ],
   "source": [
    "fpr, tpr, thresholds = roc_curve(y_test,gbtree.predict_proba(X_test)[:,1],pos_label=1)\n",
    "plt.plot(fpr, tpr, label='GB')\n",
    "\n",
    "plt.plot([0,1], [0,1], label='No Discrimination', linestyle='-', dashes=(5, 5))\n",
    "plt.show()\n",
    "\n",
    "# calculate AUC\n",
    "auc = roc_auc_score(y_test, gbtree.predict_proba(X_test)[:,1])\n",
    "print('AUC: %.3f' % auc)"
   ]
  },
  {
   "cell_type": "code",
   "execution_count": 22,
   "metadata": {},
   "outputs": [
    {
     "name": "stdout",
     "output_type": "stream",
     "text": [
      "f1_gb (binary): 0.00588523786169691\n",
      "\n",
      "              precision    recall  f1-score   support\n",
      "\n",
      "           0       0.92      1.00      0.96     22485\n",
      "           1       0.38      0.00      0.01      2023\n",
      "\n",
      "    accuracy                           0.92     24508\n",
      "   macro avg       0.65      0.50      0.48     24508\n",
      "weighted avg       0.87      0.92      0.88     24508\n",
      "\n"
     ]
    }
   ],
   "source": [
    "f1_GB = f1_score(y_test, y_pred)\n",
    "\n",
    "print(\"f1_gb (binary): {}\\n\".format(f1_GB))\n",
    "print(classification_report(y_test,y_pred))"
   ]
  },
  {
   "cell_type": "code",
   "execution_count": 27,
   "metadata": {},
   "outputs": [
    {
     "name": "stdout",
     "output_type": "stream",
     "text": [
      "Saving model as: gbtree_cv_final.pkl\n"
     ]
    }
   ],
   "source": [
    "save_model_dir = ('gbtree_cv_final.pkl')\n",
    "print(\"Saving model as: {}\".format(save_model_dir))\n",
    "\n",
    "#save the model\n",
    "with open(save_model_dir, 'wb') as handle:\n",
    "    pickle.dump(gbtree,handle,protocol=3)"
   ]
  },
  {
   "cell_type": "code",
   "execution_count": null,
   "metadata": {},
   "outputs": [],
   "source": []
  }
 ],
 "metadata": {
  "kernelspec": {
   "display_name": "Python 3.8.10 64-bit",
   "language": "python",
   "name": "python3"
  },
  "language_info": {
   "codemirror_mode": {
    "name": "ipython",
    "version": 3
   },
   "file_extension": ".py",
   "mimetype": "text/x-python",
   "name": "python",
   "nbconvert_exporter": "python",
   "pygments_lexer": "ipython3",
   "version": "3.8.10"
  },
  "orig_nbformat": 4,
  "vscode": {
   "interpreter": {
    "hash": "e7370f93d1d0cde622a1f8e1c04877d8463912d04d973331ad4851f04de6915a"
   }
  }
 },
 "nbformat": 4,
 "nbformat_minor": 2
}
